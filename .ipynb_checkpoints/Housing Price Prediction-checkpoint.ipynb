{
 "cells": [
  {
   "cell_type": "code",
   "execution_count": 2,
   "id": "286c93f5",
   "metadata": {},
   "outputs": [],
   "source": [
    "import pandas as pd\n",
    "home_data = pd.read_csv('train.csv')\n"
   ]
  },
  {
   "cell_type": "code",
   "execution_count": 3,
   "id": "b7abd934",
   "metadata": {},
   "outputs": [
    {
     "data": {
      "text/plain": [
       "Index(['Id', 'MSSubClass', 'MSZoning', 'LotFrontage', 'LotArea', 'Street',\n",
       "       'Alley', 'LotShape', 'LandContour', 'Utilities', 'LotConfig',\n",
       "       'LandSlope', 'Neighborhood', 'Condition1', 'Condition2', 'BldgType',\n",
       "       'HouseStyle', 'OverallQual', 'OverallCond', 'YearBuilt', 'YearRemodAdd',\n",
       "       'RoofStyle', 'RoofMatl', 'Exterior1st', 'Exterior2nd', 'MasVnrType',\n",
       "       'MasVnrArea', 'ExterQual', 'ExterCond', 'Foundation', 'BsmtQual',\n",
       "       'BsmtCond', 'BsmtExposure', 'BsmtFinType1', 'BsmtFinSF1',\n",
       "       'BsmtFinType2', 'BsmtFinSF2', 'BsmtUnfSF', 'TotalBsmtSF', 'Heating',\n",
       "       'HeatingQC', 'CentralAir', 'Electrical', '1stFlrSF', '2ndFlrSF',\n",
       "       'LowQualFinSF', 'GrLivArea', 'BsmtFullBath', 'BsmtHalfBath', 'FullBath',\n",
       "       'HalfBath', 'BedroomAbvGr', 'KitchenAbvGr', 'KitchenQual',\n",
       "       'TotRmsAbvGrd', 'Functional', 'Fireplaces', 'FireplaceQu', 'GarageType',\n",
       "       'GarageYrBlt', 'GarageFinish', 'GarageCars', 'GarageArea', 'GarageQual',\n",
       "       'GarageCond', 'PavedDrive', 'WoodDeckSF', 'OpenPorchSF',\n",
       "       'EnclosedPorch', '3SsnPorch', 'ScreenPorch', 'PoolArea', 'PoolQC',\n",
       "       'Fence', 'MiscFeature', 'MiscVal', 'MoSold', 'YrSold', 'SaleType',\n",
       "       'SaleCondition', 'SalePrice'],\n",
       "      dtype='object')"
      ]
     },
     "execution_count": 3,
     "metadata": {},
     "output_type": "execute_result"
    }
   ],
   "source": [
    "home_data.columns"
   ]
  },
  {
   "cell_type": "code",
   "execution_count": 10,
   "id": "6db2464f",
   "metadata": {},
   "outputs": [],
   "source": [
    "feature_names = ['LotArea','YearBuilt','1stFlrSF','2ndFlrSF','FullBath','BedroomAbvGr','TotRmsAbvGrd']\n",
    "X = home_data[feature_names]\n",
    "y = home_data.SalePrice"
   ]
  },
  {
   "cell_type": "code",
   "execution_count": 16,
   "id": "b6cfa1ac",
   "metadata": {},
   "outputs": [
    {
     "data": {
      "text/plain": [
       "0       208500\n",
       "1       181500\n",
       "2       223500\n",
       "3       140000\n",
       "4       250000\n",
       "         ...  \n",
       "1455    175000\n",
       "1456    210000\n",
       "1457    266500\n",
       "1458    142125\n",
       "1459    147500\n",
       "Name: SalePrice, Length: 1460, dtype: int64"
      ]
     },
     "execution_count": 16,
     "metadata": {},
     "output_type": "execute_result"
    }
   ],
   "source": [
    "X.head()\n",
    "y"
   ]
  },
  {
   "cell_type": "code",
   "execution_count": 18,
   "id": "1be2620b",
   "metadata": {},
   "outputs": [],
   "source": [
    "from sklearn.model_selection import train_test_split\n",
    "X_train, X_test, y_train, y_test = train_test_split(X, y, test_size=0.33)"
   ]
  },
  {
   "cell_type": "markdown",
   "id": "135a4c27",
   "metadata": {},
   "source": [
    "### Fit the model"
   ]
  },
  {
   "cell_type": "code",
   "execution_count": 51,
   "id": "536585e9",
   "metadata": {},
   "outputs": [
    {
     "data": {
      "text/plain": [
       "DecisionTreeRegressor(random_state=1)"
      ]
     },
     "execution_count": 51,
     "metadata": {},
     "output_type": "execute_result"
    }
   ],
   "source": [
    "from sklearn.tree import DecisionTreeRegressor\n",
    "\n",
    "model = DecisionTreeRegressor(random_state=1)\n",
    "model.fit(X_train,y_train)"
   ]
  },
  {
   "cell_type": "code",
   "execution_count": 52,
   "id": "e2ca6c84",
   "metadata": {},
   "outputs": [
    {
     "data": {
      "text/plain": [
       "array([180500., 244000.,  93500., 210000., 172500., 116500., 392000.,\n",
       "       360000., 170000., 168000., 124500., 179000.,  91000., 258000.,\n",
       "       340000., 124500., 175500., 197000., 118000., 155000.,  88000.,\n",
       "       203000., 274900., 142600., 194000.,  72500., 200000., 177000.,\n",
       "       125500., 320000., 126175., 137000., 153000., 145000., 135000.,\n",
       "       131400., 125000., 127000.,  97000., 190000., 233170., 192000.,\n",
       "       375000., 147000., 151500., 147000., 120000., 148000., 124500.,\n",
       "       139400.,  60000., 135000., 136000., 181000.,  86000., 128950.,\n",
       "       115000., 150000.,  79500., 207500., 147000., 139950., 320000.,\n",
       "       174000., 123000.,  60000., 115000., 466500., 135000., 129500.,\n",
       "       208900., 110000., 272000., 167500., 320000., 178400., 126175.,\n",
       "       194000., 220000.,  93500., 201000., 178000., 100000., 128200.,\n",
       "       139950., 107500., 134000., 147576., 159500., 118000.,  82500.,\n",
       "       155000., 186500., 207000., 149500., 108000., 104900., 159434.,\n",
       "       172500., 129000., 320000., 169000., 122000., 147000., 129500.,\n",
       "       134500., 299800., 318000., 150000., 275500., 207500., 139500.,\n",
       "       110000.,  88000., 110000., 115000., 167000., 556581.,  90350.,\n",
       "       220000., 151500., 340000., 122000., 189000., 119000., 181000.,\n",
       "       128000., 160000., 189000., 325300., 281213., 130000.,  92900.,\n",
       "       178000., 200000., 130000., 165500., 135000., 108480., 135500.,\n",
       "       142000., 181000., 465000., 123000., 189000., 104900., 262280.,\n",
       "       154000., 164500., 145000., 134900., 279500., 145900., 237000.,\n",
       "       243000., 136500., 105000., 125000., 171000., 201000., 201800.,\n",
       "       187100., 197500., 350000., 197500., 106000., 155000.,  96500.,\n",
       "       340000., 197000., 315750., 135000., 150000., 168000., 219500.,\n",
       "       180000., 167500., 236500., 225000., 194500., 148500., 207500.,\n",
       "       185900., 260000., 159434., 181000., 190000., 167000., 133000.,\n",
       "       244000., 192140., 193879., 182000., 451950.,  99500., 177000.,\n",
       "       179900., 175000., 125500., 161000., 260000., 116500., 138500.,\n",
       "       143000., 350000., 164000., 215000., 178740., 235000., 148500.,\n",
       "       161000., 159950., 172785., 180500., 305900., 187500., 168000.,\n",
       "       129500., 170000., 188000., 340000., 318061., 105000., 118000.,\n",
       "       147000., 184000., 137500., 105000., 204750., 140000., 275000.,\n",
       "       174000., 108000., 115000., 279500., 108000., 211000., 102000.,\n",
       "       102000., 265979., 147000., 115000.,  64500., 239500., 170000.,\n",
       "       181000., 216000., 199900.,  90350., 213500., 295000., 244000.,\n",
       "       170000., 115000., 235000., 102000., 250000., 233000., 125000.,\n",
       "       246578.,  93500., 200000., 226700., 220000., 235000., 148500.,\n",
       "       197000., 137500., 142000., 190000., 145000., 167500., 240000.,\n",
       "       117000., 180500., 115000., 212000., 279500., 172785., 126175.,\n",
       "       136000., 132000., 130000., 194500., 225000., 176000., 134000.,\n",
       "       166000., 208900., 187500., 159500., 167000.,  91000., 244000.,\n",
       "       176000., 120000., 274900., 178000.,  98000., 148500., 345000.,\n",
       "        86000., 129000., 110000., 184000., 173000., 110000., 313000.,\n",
       "       188000.,  78000., 135960., 150500., 151500., 206900., 164500.,\n",
       "       340000.,  93500., 275000., 132000., 290000., 240000., 159950.,\n",
       "       159000., 176000., 249700., 125500., 259500.,  86000., 181900.,\n",
       "       167500., 105000., 115000., 265000., 180000., 110000., 188500.,\n",
       "       257500., 140000., 122000., 256000., 190000., 137000., 135000.,\n",
       "       155835., 181900., 155900., 129500.,  72500., 205000., 211000.,\n",
       "       215200., 150000., 135000., 193879., 187100.,  86000., 201000.,\n",
       "       301500., 172785., 181000., 140000., 139400., 154000., 249700.,\n",
       "       124900., 325000., 163900., 180000., 118000.,  87500., 135500.,\n",
       "       153000., 289000., 139950., 175900.,  80000., 117000., 178740.,\n",
       "       219500., 248328.,  76000., 134000., 219500.,  90000., 142000.,\n",
       "       155900.,  91000., 144000., 182900., 172500., 132000., 135000.,\n",
       "        61000., 123000., 202500., 138000., 119000., 177500., 138000.,\n",
       "       129000., 190000., 135000., 135000.,  99500., 223500., 335000.,\n",
       "       192140., 281213., 485000., 198900., 234000., 138000.,  85500.,\n",
       "       126175., 320000., 325300., 151500., 139950., 138000., 126175.,\n",
       "       181000., 154000.,  76000., 191000., 161000., 157900., 185900.,\n",
       "       187000., 325000.,  79000., 162000., 187100., 380000., 187500.,\n",
       "       157000., 115000., 180500., 137000.,  88000., 313000.,  64500.,\n",
       "        64500., 171900., 325300., 180500., 130000., 189000., 190000.,\n",
       "       129900., 228000., 137500., 170000., 175000., 149900.,  80000.,\n",
       "       280000., 135000., 135000., 167000., 140000., 159500., 201000.,\n",
       "       110000., 159950., 139950., 120000., 380000., 187500., 220000.,\n",
       "       250000., 176000., 137500., 151500., 264132., 280000., 154000.,\n",
       "       201000., 109900., 171750., 159500.,  60000., 147000.])"
      ]
     },
     "execution_count": 52,
     "metadata": {},
     "output_type": "execute_result"
    }
   ],
   "source": [
    "predictions = model.predict(X_test)\n",
    "predictions"
   ]
  },
  {
   "cell_type": "code",
   "execution_count": 53,
   "id": "81878427",
   "metadata": {},
   "outputs": [
    {
     "data": {
      "text/plain": [
       "0.6840014574074761"
      ]
     },
     "execution_count": 53,
     "metadata": {},
     "output_type": "execute_result"
    }
   ],
   "source": [
    "model.score(X_test,y_test)"
   ]
  },
  {
   "cell_type": "code",
   "execution_count": null,
   "id": "b91c179e",
   "metadata": {},
   "outputs": [],
   "source": []
  }
 ],
 "metadata": {
  "kernelspec": {
   "display_name": "Python 3 (ipykernel)",
   "language": "python",
   "name": "python3"
  },
  "language_info": {
   "codemirror_mode": {
    "name": "ipython",
    "version": 3
   },
   "file_extension": ".py",
   "mimetype": "text/x-python",
   "name": "python",
   "nbconvert_exporter": "python",
   "pygments_lexer": "ipython3",
   "version": "3.9.6"
  }
 },
 "nbformat": 4,
 "nbformat_minor": 5
}
